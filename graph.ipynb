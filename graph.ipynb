{
 "cells": [
  {
   "metadata": {},
   "cell_type": "raw",
   "source": "",
   "id": "f3a3f30bc82100db"
  },
  {
   "metadata": {
    "ExecuteTime": {
     "end_time": "2025-08-23T16:05:08.707278Z",
     "start_time": "2025-08-23T16:05:06.672854Z"
    }
   },
   "cell_type": "code",
   "source": [
    "from typing import TypedDict\n",
    "from langgraph.graph import StateGraph, END\n",
    "from agents.professeur import agent_professeur\n",
    "from agents.exercice import agent_exercice\n",
    "from agents.correcteur import agent_correcteur\n",
    "\n",
    "# Définition du schéma de l'état\n",
    "class ChatState(TypedDict):\n",
    "    question: str\n",
    "\n",
    "# Fonction de routage (Tuteur)\n",
    "def route_request(state: ChatState):\n",
    "    question = state[\"question\"].lower()\n",
    "    if \"exercice\" in question:\n",
    "        return {\"next_node\": \"exercice\"}       # retourne un dict\n",
    "    elif \"corrige\" in question or \"réponse\" in question:\n",
    "        return {\"next_node\": \"correcteur\"}     # retourne un dict\n",
    "    else:\n",
    "        return {\"next_node\": \"professeur\"}     # retourne un dict\n",
    "\n",
    "# Création du graphe avec le schéma d'état\n",
    "graph = StateGraph(ChatState)\n",
    "\n",
    "# Ajouter les agents comme nodes\n",
    "graph.add_node(\"professeur\", agent_professeur)\n",
    "graph.add_node(\"exercice\", agent_exercice)\n",
    "graph.add_node(\"correcteur\", agent_correcteur)\n",
    "\n",
    "# Ajouter le routeur comme node\n",
    "graph.add_node(\"router\", route_request)\n",
    "\n",
    "# Définir le point d'entrée sur le routeur\n",
    "graph.set_entry_point(\"router\")\n",
    "\n",
    "# Définir les sorties vers END pour chaque agent\n",
    "graph.add_edge(\"professeur\", END)\n",
    "graph.add_edge(\"exercice\", END)\n",
    "graph.add_edge(\"correcteur\", END)\n",
    "\n",
    "# Compiler le graphe\n",
    "compiled_graph = graph.compile()\n"
   ],
   "id": "8d185281e59bc613",
   "outputs": [],
   "execution_count": 1
  },
  {
   "metadata": {
    "ExecuteTime": {
     "end_time": "2025-08-23T16:23:59.549222Z",
     "start_time": "2025-08-23T16:23:59.332952Z"
    }
   },
   "cell_type": "code",
   "source": "compiled_graph",
   "id": "cd05b6644c06ef49",
   "outputs": [
    {
     "data": {
      "text/plain": [
       "<langgraph.graph.state.CompiledStateGraph object at 0x725ef88a7370>"
      ],
      "image/png": "[encoded data removed]"
     },
     "execution_count": 3,
     "metadata": {},
     "output_type": "execute_result"
    }
   ],
   "execution_count": 3
  },
  {
   "metadata": {},
   "cell_type": "code",
   "outputs": [],
   "execution_count": null,
   "source": [
    "%%capture --no-stderr\n",
    "%pip install --quiet -U langchain_openai langchain_core langgraph langgraph-prebuilt"
   ],
   "id": "55535326cb869800"
  },
  {
   "metadata": {},
   "cell_type": "code",
   "outputs": [],
   "execution_count": null,
   "source": "llm = ChatOpenAI(model=\"gpt-4o\")\n",
   "id": "70f282e62dbf9c41"
  },
  {
   "metadata": {},
   "cell_type": "code",
   "outputs": [],
   "execution_count": null,
   "source": [
    "from langgraph.graph import MessagesState\n",
    "from langchain_core.messages import HumanMessage, SystemMessage\n",
    "\n",
    "# System message\n",
    "from langchain.schema import SystemMessage\n",
    "\n",
    "sys_msg = SystemMessage(\n",
    "    content=(\n",
    "        \"\"\"Tu es un assistant éducatif dont le rôle est d'aider les élèves à réviser et à apprendre.\n",
    "        Tu dois d'abord demander la classe de l'élève si tu ne la connais pas.\n",
    "        Une fois que tu connais la classe, tu la gardes en mémoire pour toutes les prochaines interactions.\"\"\"\n",
    "    )\n",
    ")\n",
    "\n",
    "\n",
    "\n",
    "# Node\n",
    "\n",
    "def assistant(state: MessagesState):\n",
    "   return {\"messages\": [llm.invoke([sys_msg] + state[\"messages\"])]}"
   ],
   "id": "ec0ddb749f03fe35"
  },
  {
   "metadata": {},
   "cell_type": "code",
   "outputs": [],
   "execution_count": null,
   "source": [
    "# NODE router\n",
    "from langchain.schema import SystemMessage\n",
    "\n",
    "def exercice(state: MessagesState):\n",
    "    msg = SystemMessage(\n",
    "        content=(\n",
    "            \"\"\"Tu es un routeur de messages.\n",
    "\n",
    "            Analyse la question de l'élève et retourne uniquement UN mot parmi :\n",
    "              - \"Exercice\" → si l'élève demande un exercice de mathématiques.\n",
    "              - \"Apprendre\" → si l'élève veut apprendre ou comprendre une notion.\n",
    "              - \"Corriger\" → si l'élève demande la correction d'un exercice.\n",
    "              - \"Invalide\" → si la demande ne correspond pas aux cas ci-dessus.\n",
    "\n",
    "            Réponds uniquement par un de ces quatre tags, sans phrase supplémentaire.\n",
    "            \"\"\"\n",
    "        )\n",
    "    )\n",
    "\n",
    "    response = llm.invoke([msg] + state[\"messages\"])\n",
    "    return {\"tag\": response.content}\n"
   ],
   "id": "13a9b81f3e2e995f"
  }
 ],
 "metadata": {},
 "nbformat": 4,
 "nbformat_minor": 5
}
